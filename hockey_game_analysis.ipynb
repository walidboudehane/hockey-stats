{
 "cells": [
  {
   "cell_type": "markdown",
   "id": "7a482ac9",
   "metadata": {},
   "source": [
    "Data Information:\n",
    "\n",
    "    The project consists of two data files. One contains a compact set of events from a randomly selected hockey game, while the other provides Expected Goals (xg) values only for shots that hit the net. Any xg value that doesn't correspond to a shot event should not be counted.\n",
    "\n",
    "    X and Y coordinates are measured in feet and are adjusted to ensure that both teams shoot in the same direction.\n",
    "\n",
    "    Line Carry events are flagged when the puck is carried over either the blue line or the center ice red line.\n",
    "\n",
    "    Binary columns with values of 0 or 1 indicate 0=No, 1=Yes.\n",
    "\n",
    "    Successful passes are completed passes, and successful shots are shots on the net."
   ]
  },
  {
   "cell_type": "code",
   "execution_count": 28,
   "id": "2d0b5ce9",
   "metadata": {},
   "outputs": [],
   "source": [
    "#Author : Walid Boudehane\n",
    "import math\n",
    "import pandas as df\n",
    "import numpy as np\n",
    "import matplotlib.pyplot as plt\n",
    "\n",
    "game_data=df.read_csv(\"random_game_events.csv\")\n",
    "xg_data=df.read_csv(\"expected_goals.csv\")"
   ]
  },
  {
   "cell_type": "code",
   "execution_count": 19,
   "id": "cd930532",
   "metadata": {
    "scrolled": true
   },
   "outputs": [
    {
     "name": "stdout",
     "output_type": "stream",
     "text": [
      "The team 1 won the game and the score was: 4 - 1\n",
      "Team 1 xg count: 4\n",
      "Team 2 xg count: 1\n",
      "Team 1 has the better xg.\n"
     ]
    }
   ],
   "source": [
    "# Get a list of unique team ids from the game_data\n",
    "teams = list((game_data.teamid).drop_duplicates())\n",
    "\n",
    "# Select all goals scored by team 1 (identified by the first team id in the list)\n",
    "team1 = game_data[(game_data.goal == 1) & (game_data.teamid == teams[0])]\n",
    "\n",
    "# Select all goals scored by team 2 (identified by the second team id in the list)\n",
    "team2 = game_data[(game_data.goal == 1) & (game_data.teamid == teams[1])]\n",
    "\n",
    "# Calculate the number of goals scored by team 1 and team 2\n",
    "goals_team1 = ((team1.groupby('teamid')['goal'].count().reset_index()).goal).iloc[0]\n",
    "goals_team2 = ((team2.groupby('teamid')['goal'].count().reset_index()).goal).iloc[0]\n",
    "\n",
    "# Compare the number of goals scored\n",
    "if goals_team1 > goals_team2:\n",
    "    print(\"The team 1 won the game and the score was:\", goals_team1, \"-\", goals_team2)\n",
    "elif goals_team2 > goals_team1:\n",
    "    print(\"The team 2 won the game and the score was:\", goals_team2, \"-\", goals_team1)\n",
    "else:\n",
    "    print(\"The match ended in a draw and the score was:\", goals_team1, \"-\", goals_team2)\n",
    "\n",
    "\n",
    "\n",
    "# Join the two tables \n",
    "team1_xg = df.merge(team1, xg_data, on='compiledgametime')\n",
    "team2_xg = df.merge(team2, xg_data, on='compiledgametime')\n",
    "\n",
    "# Calculate xg count for each team\n",
    "count_xg_team1 = team1_xg.groupby('teamid_x')['xg'].count().iloc[0]\n",
    "count_xg_team2 = team2_xg.groupby('teamid_x')['xg'].count().iloc[0]\n",
    "\n",
    "# Print xg count for each team\n",
    "print(\"Team 1 xg count:\", count_xg_team1)\n",
    "print(\"Team 2 xg count:\", count_xg_team2)\n",
    "\n",
    "# Determine which team has the better xg\n",
    "if count_xg_team1 > count_xg_team2:\n",
    "    print(\"Team 1 has the better xg.\")\n",
    "elif count_xg_team1 < count_xg_team2:\n",
    "    print(\"Team 2 has the better xg.\")\n",
    "else:\n",
    "    print(\"Both teams have the same xg count.\")"
   ]
  },
  {
   "cell_type": "markdown",
   "id": "bd50c34d",
   "metadata": {},
   "source": [
    "# identify the likely xCoord of each blueline"
   ]
  },
  {
   "cell_type": "markdown",
   "id": "20941a95",
   "metadata": {},
   "source": [
    "\n",
    "### Left blue line x-coordinate is 0 and the right blue line x-coordinate is 60.12751770019531"
   ]
  },
  {
   "cell_type": "code",
   "execution_count": 20,
   "id": "154e09ed",
   "metadata": {},
   "outputs": [
    {
     "name": "stdout",
     "output_type": "stream",
     "text": [
      "Left blue line x-coordinate: 0.0\n",
      "Right blue line x-coordinate: 60.12751770019531\n"
     ]
    }
   ],
   "source": [
    "\n",
    "# same as data_game\n",
    "events = df.read_csv(\"Tutorial22_df.csv\")\n",
    "\n",
    "# filter the DataFrame to only include events at or beyond the blue lines\n",
    "blue_line_events = events[(events[\"zone\"] == \"oz\") | (events[\"zone\"] == \"nz\")]\n",
    "\n",
    "# sort the events by x-coordinate\n",
    "sorted_events = blue_line_events.sort_values(by=\"xcoord\")\n",
    "\n",
    "# find the indices of the two events closest to the left and right blue lines\n",
    "left_indices = sorted_events.index[sorted_events[\"xcoord\"] < -60][-2:]\n",
    "right_indices = sorted_events.index[sorted_events[\"xcoord\"] > 60][:2]\n",
    "\n",
    "# get the x-coordinate of the two closest events on each side of the ice\n",
    "left_xcoords = sorted_events.loc[left_indices, \"xcoord\"].values\n",
    "right_xcoords = sorted_events.loc[right_indices, \"xcoord\"].values\n",
    "\n",
    "# calculate the x-coordinate of the left and right blue lines as the midpoint\n",
    "# between the two closest events on each side of the ice\n",
    "left_blueline_x = (left_xcoords.sum() / 2)\n",
    "right_blueline_x = (right_xcoords.sum() / 2)\n",
    "\n",
    "# print the x-coordinate of the left and right blue lines\n",
    "print(\"Left blue line x-coordinate:\", left_blueline_x)\n",
    "print(\"Right blue line x-coordinate:\", right_blueline_x)"
   ]
  },
  {
   "cell_type": "markdown",
   "id": "0ad99b06",
   "metadata": {},
   "source": [
    "### For team 1, they created chances and were able to convert those chances into goals , also they were luckiest to score a goal from a long distance . For team 2, they created chances but were not efficient and  unlucky."
   ]
  },
  {
   "cell_type": "code",
   "execution_count": 26,
   "id": "639a3519",
   "metadata": {
    "scrolled": true
   },
   "outputs": [
    {
     "data": {
      "image/png": "[encoded data removed]",
      "text/plain": [
       "<Figure size 432x288 with 1 Axes>"
      ]
     },
     "metadata": {
      "needs_background": "light"
     },
     "output_type": "display_data"
    }
   ],
   "source": [
    "# Filter the game data to include only shots\n",
    "# Filter the shots data to include only shots taken by team 1 #team 596\n",
    "all_shots=game_data[(game_data.eventname == \"shot\")]\n",
    "team1_shots = game_data[(game_data.eventname == \"shot\") & (game_data.teamid == teams[0])]\n",
    "\n",
    "\n",
    "# Create lists for the shot outcomes, goals, x-coordinates, and y-coordinates\n",
    "shot_outcome_team1 = list(team1_shots.outcome)\n",
    "goal = list(team1_shots.goal)\n",
    "xcoord_team1 = list(team1_shots.xcoord)\n",
    "ycoord_team1 = list(team1_shots.ycoord)\n",
    "\n",
    "# Create a scatter plot for the shots taken by team 724\n",
    "for i in range(len(shot_outcome_team1)):\n",
    "    if goal[i] == 1:# Red points represent goals\n",
    "        plt.scatter(xcoord_team1[i], ycoord_team1[i], color='red')\n",
    "    elif shot_outcome_team1[i] == \"successful\":# Blue points represent successful shots\n",
    "        plt.scatter(xcoord_team1[i], ycoord_team1[i], color='blue')\n",
    "    else: # Black points represent failed shots\n",
    "        plt.scatter(xcoord_team1[i], ycoord_team1[i], color='black')\n",
    "\n",
    "# Add labels and title to the plot\n",
    "plt.xlabel(\"X coordinate of shots\")\n",
    "plt.ylabel(\"Y coordinate of shots\")\n",
    "plt.title(\"Scatter plot of shots taken by team 596\")\n",
    "\n",
    "# Set the x-axis and y-axis limits\n",
    "plt.xlim(-100, 100)\n",
    "plt.ylim(-50, 50)\n",
    "\n",
    "# Show the plot\n",
    "plt.show()\n",
    "\n"
   ]
  },
  {
   "cell_type": "code",
   "execution_count": 25,
   "id": "0b3c299a",
   "metadata": {},
   "outputs": [
    {
     "data": {
      "image/png": "[encoded data removed]",
      "text/plain": [
       "<Figure size 432x288 with 1 Axes>"
      ]
     },
     "metadata": {
      "needs_background": "light"
     },
     "output_type": "display_data"
    }
   ],
   "source": [
    "# Filter the shots data to include only shots taken by team 2 #team 724\n",
    "team2_shots = game_data[(game_data.eventname == \"shot\") & (all_shots.teamid == teams[1])]\n",
    "\n",
    "\n",
    "# Create lists for the shot outcomes, goals, x-coordinates, and y-coordinates\n",
    "shot_outcome_team2 = list(team2_shots.outcome)\n",
    "goal = list(team2_shots.goal)\n",
    "xcoord_team2 = list(team2_shots.xcoord)\n",
    "ycoord_team2 = list(team2_shots.ycoord)\n",
    "\n",
    "# Create a scatter plot for the shots taken by team 724\n",
    "for i in range(len(shot_outcome_team2)):\n",
    "    if goal[i] == 1:# Red points represent goals\n",
    "        plt.scatter(xcoord_team2[i], ycoord_team2[i], color='red')\n",
    "    elif shot_outcome_team2[i] == \"successful\":# Blue points represent successful shots\n",
    "        plt.scatter(xcoord_team2[i], ycoord_team2[i], color='blue')\n",
    "    else: # Black points represent failed shots\n",
    "        plt.scatter(xcoord_team2[i], ycoord_team2[i], color='black')\n",
    "\n",
    "# Add labels and title to the plot\n",
    "plt.xlabel(\"X coordinate of shots\")\n",
    "plt.ylabel(\"Y coordinate of shots\")\n",
    "plt.title(\"Scatter plot of shots taken by team 724\")\n",
    "\n",
    "# Set the x-axis and y-axis limits\n",
    "plt.xlim(-100, 100)\n",
    "plt.ylim(-50, 50)\n",
    "\n",
    "# Show the plot\n",
    "plt.show()\n"
   ]
  },
  {
   "cell_type": "markdown",
   "id": "230ee416",
   "metadata": {},
   "source": [
    "## the centre of the net that teams shoot at is located at xCoord=89, yCoord=0\n",
    "### The distance of the furthest goal scored is : 143.4863266591984\n",
    "### bThe xg of the furthest goal is 0.004219182 and  this is because shots taken from longer distances are generally more difficult to score and are less likely to result in a goal."
   ]
  },
  {
   "cell_type": "code",
   "execution_count": 22,
   "id": "7b9c6e2d",
   "metadata": {},
   "outputs": [
    {
     "name": "stdout",
     "output_type": "stream",
     "text": [
      "the furthest distance :  143.4863266591984\n",
      "The xg of the furthest distance : 0.004219182\n"
     ]
    }
   ],
   "source": [
    "\n",
    "xCoord=89\n",
    "yCoord=0\n",
    "\n",
    "all_shots = game_data[game_data.eventname == \"shot\"]\n",
    "goal_shots= game_data[game_data.goal==1]\n",
    "shots_distance=[]\n",
    "for i in range (len(all_shots.xcoord)):\n",
    "    shots_distance.append(math.sqrt((list(all_shots.xcoord)[i]- xCoord)**2 + (list(all_shots.ycoord)[i]- yCoord)**2))\n",
    "goals_distance=[]\n",
    "\n",
    "for i in range (len(goal_shots.xcoord)): \n",
    "    goals_distance.append(math.sqrt((list(goal_shots.xcoord)[i]- xCoord)**2 + (list(goal_shots.ycoord)[i]- yCoord)**2))\n",
    "    \n",
    "goal_time=list(goal_shots.compiledgametime)\n",
    "\n",
    "#the furthest goal was :\n",
    "furthestDistance=max(goals_distance)\n",
    "print(\"the furthest distance : \",furthestDistance)\n",
    "\n",
    "#the expected goals (xg) value of this furthest goal :\n",
    "index_futhest_goal=goals_distance.index(furthestDistance)\n",
    "furthest_goal_time=goal_time[index_futhest_goal]\n",
    "\n",
    "\n",
    "xg_furthest_goal=float(xg_data[xg_data.compiledgametime==furthest_goal_time].xg)\n",
    "print(\"The xg of the furthest distance :\",xg_furthest_goal)\n"
   ]
  },
  {
   "cell_type": "markdown",
   "id": "7fd43684",
   "metadata": {},
   "source": [
    "###  \"Shot Assist\" is defined as a sequence of events with the same possessionid where there is: 1) a successful pass followed by 2) a successful reception by a teammate and then without giving up the puck 3) the receiving player has a shot attempt. "
   ]
  },
  {
   "cell_type": "markdown",
   "id": "c60cf07b",
   "metadata": {},
   "source": [
    "\n",
    "### The player with the most assisted shots is  45223 with  1 assisted shots"
   ]
  },
  {
   "cell_type": "code",
   "execution_count": 23,
   "id": "652b0c8f",
   "metadata": {},
   "outputs": [
    {
     "name": "stdout",
     "output_type": "stream",
     "text": [
      "The player with the most assisted shots is  45223 with  0 assisted shots.\n"
     ]
    }
   ],
   "source": [
    "# Add a column for Shot Assist, initialized with zeros\n",
    "game_data['Shot Assist'] = 0\n",
    "\n",
    "# Use shift() to check if a shot attempt is preceded by a successful pass and reception by the same team\n",
    "for index, event in game_data.iterrows():\n",
    "    if event['eventname'] == 'shot':\n",
    "        reception_event = game_data.loc[index-1]  \n",
    "        if (reception_event['eventname'] == 'reception' and\n",
    "                reception_event['teamid'] == event['teamid'] and  # changed to compare to current event\n",
    "                reception_event['possessionid'] == event['possessionid'] and  # changed to compare to current event\n",
    "                reception_event['playerid'] == event['playerid']):\n",
    "                previous_event = game_data.loc[index-2]           # changed to compare to current event\n",
    "                if (previous_event['eventname'] == 'pass' and \n",
    "                    previous_event['teamid'] == event['teamid'] and \n",
    "                    previous_event['possessionid'] == event['possessionid']):\n",
    "                    # Set the Shot Assist flag to 1 for the pass even \n",
    "                    game_data.at[index, 'Shot Assist'] = 1\n",
    "                    \n",
    "                    \n",
    "                \n",
    "\n",
    "assisted_shots = game_data.groupby('playerid')['Shot Assist'].sum().reset_index()\n",
    "\n",
    "\n",
    "most_assisted_player = assisted_shots.sort_values('Shot Assist', ascending=False).iloc[0]\n",
    "\n",
    "# Print the results\n",
    "print(\"The player with the most assisted shots is \",most_assisted_player['playerid'], \"with \",most_assisted_player['Shot Assist'],\"assisted shots.\")\n"
   ]
  },
  {
   "cell_type": "markdown",
   "id": "b13b8f8b",
   "metadata": {},
   "source": [
    "### The highest xg among the goals that were scored  is 0.999534607 and  it was this high because Because the shooter was facing the net and the opponent's net was empty (no goalkeeper)."
   ]
  },
  {
   "cell_type": "code",
   "execution_count": 24,
   "id": "00833bad",
   "metadata": {},
   "outputs": [
    {
     "name": "stdout",
     "output_type": "stream",
     "text": [
      "The highest xg among the goals is: 0.999534607 at time: 3553.5\n"
     ]
    }
   ],
   "source": [
    "# Create a list of compiledgametime values when a goal was scored\n",
    "time_goal_scored = list(game_data[game_data[\"goal\"] == 1][\"compiledgametime\"])\n",
    "\n",
    "# Select the rows from xg_data where the compiledgametime matches the time_goal_scored list\n",
    "high_xg = xg_data[xg_data[\"compiledgametime\"].isin(time_goal_scored)]\n",
    "\n",
    "# Sort the high_xg dataframe by the \"xg\" column in descending order and select the first row (highest xg)\n",
    "high_xg_sorted = high_xg.sort_values([\"xg\"], ascending=False).iloc[0]\n",
    "\n",
    "# Print the highest xg value and the corresponding compiledgametime\n",
    "print(\"The highest xg among the goals is:\", high_xg_sorted.xg, \"at time:\", high_xg_sorted.compiledgametime)\n",
    "\n",
    "# Sort the game_data dataframe by the \"compiledgametime\" column in descending order \n",
    "game_data_sorted = game_data.sort_values(\"compiledgametime\", ascending=False)"
   ]
  }
 ],
 "metadata": {
  "kernelspec": {
   "display_name": "Python 3 (ipykernel)",
   "language": "python",
   "name": "python3"
  },
  "language_info": {
   "codemirror_mode": {
    "name": "ipython",
    "version": 3
   },
   "file_extension": ".py",
   "mimetype": "text/x-python",
   "name": "python",
   "nbconvert_exporter": "python",
   "pygments_lexer": "ipython3",
   "version": "3.9.7"
  }
 },
 "nbformat": 4,
 "nbformat_minor": 5
}
